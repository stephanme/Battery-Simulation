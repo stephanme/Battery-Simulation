{
 "cells": [
  {
   "cell_type": "markdown",
   "metadata": {},
   "source": [
    "# Export Energy Consumption data from Prometheus\n",
    "Prometheus instance: http://k3s.fritz.box/prometheus-lt. Sample period: 15 min\n",
    "\n",
    "Metrics:\n",
    "- kpc_ac_energy_to_grid_wh_total\n",
    "- kpc_home_power_consumption_wh_total{source=\"grid\"}\n",
    "- kpc_home_power_consumption_wh_total{source=\"pv\"}"
   ]
  },
  {
   "cell_type": "code",
   "execution_count": 18,
   "metadata": {},
   "outputs": [],
   "source": [
    "import pandas as pd\n",
    "from prometheus_api_client import PrometheusConnect\n",
    "from datetime import datetime, timedelta\n",
    "\n",
    "# Time range\n",
    "time_range_days = 365\n",
    "end_time = datetime.now()  # Current time\n",
    "start_time = end_time - timedelta(days=time_range_days)  # last x days\n",
    "\n",
    "df = pd.DataFrame(columns=['timestamp', 'power'])\n",
    "df_idx = 0\n",
    "\n",
    "# Connect to the Prometheus server\n",
    "prom = PrometheusConnect(url=\"http://k3s.fritz.box/prometheus-lt\", disable_ssl=True)\n",
    "\n",
    "# time range needs batching in 100d steps (max 11k data points allowed)\n",
    "for days_start in range(0, time_range_days, 100):\n",
    "    start_time_batch = start_time + timedelta(days=days_start)\n",
    "    days_end = days_start + min(100, time_range_days - days_start)\n",
    "    end_time_batch = start_time + timedelta(days=days_end)\n",
    "\n",
    "    # fetch data from prometheus, max 11k data points allowed (~100d with 15min resolution)\n",
    "    kpc_ac_energy_to_grid_wh_total = prom.custom_query_range(\n",
    "        query=\"max(kpc_ac_energy_to_grid_wh_total)\",\n",
    "        start_time=start_time_batch,\n",
    "        end_time=end_time_batch,\n",
    "        step=\"15m\"\n",
    "        )\n",
    "    kpc_home_power_consumption_grid_wh_total = prom.custom_query_range(\n",
    "        query='max(kpc_home_power_consumption_wh_total{source=\"grid\"})',\n",
    "        start_time=start_time_batch,\n",
    "        end_time=end_time_batch,\n",
    "        step=\"15m\"\n",
    "    )\n",
    "    kpc_home_power_consumption_pv_wh_total = prom.custom_query_range(\n",
    "        query='max(kpc_home_power_consumption_wh_total{source=\"pv\"})',\n",
    "        start_time=start_time_batch,\n",
    "        end_time=end_time_batch,\n",
    "        step=\"15m\"\n",
    "    )\n",
    "\n",
    "    # convert into power data, assumes same timestamps accross all queries\n",
    "\n",
    "    kpc_ac_energy_to_grid_wh_total_values = kpc_ac_energy_to_grid_wh_total[0]['values']\n",
    "    kpc_home_power_consumption_grid_wh_total_values = kpc_home_power_consumption_grid_wh_total[0]['values']\n",
    "    kpc_home_power_consumption_pv_wh_total_values = kpc_home_power_consumption_pv_wh_total[0]['values']\n",
    "\n",
    "    for i in range(1, len(kpc_ac_energy_to_grid_wh_total_values)):\n",
    "        timestamp = datetime.fromtimestamp(kpc_ac_energy_to_grid_wh_total_values[i][0])\n",
    "        delta_energy_to_grid = float(kpc_ac_energy_to_grid_wh_total_values[i][1]) - float(kpc_ac_energy_to_grid_wh_total_values[i-1][1])\n",
    "        delta_energy_consumption_grid = float(kpc_home_power_consumption_grid_wh_total_values[i][1]) - float(kpc_home_power_consumption_grid_wh_total_values[i-1][1])\n",
    "        power = (delta_energy_consumption_grid - delta_energy_to_grid) / 0.25 # 15min = 0.25h\n",
    "        df.loc[df_idx] = {'timestamp': timestamp, 'power': power}\n",
    "        df_idx += 1\n",
    "\n",
    "df.to_csv(\"../../sample_data.csv\")"
   ]
  }
 ],
 "metadata": {
  "kernelspec": {
   "display_name": "battery-simulation",
   "language": "python",
   "name": "python3"
  },
  "language_info": {
   "codemirror_mode": {
    "name": "ipython",
    "version": 3
   },
   "file_extension": ".py",
   "mimetype": "text/x-python",
   "name": "python",
   "nbconvert_exporter": "python",
   "pygments_lexer": "ipython3",
   "version": "3.12.4"
  }
 },
 "nbformat": 4,
 "nbformat_minor": 2
}
